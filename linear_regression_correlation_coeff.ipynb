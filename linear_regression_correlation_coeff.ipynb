{
 "cells": [
  {
   "cell_type": "code",
   "execution_count": 49,
   "source": [
    "import pandas as pd \n",
    "import numpy as np\n",
    "import datetime as dt\n",
    "from pathlib import Path\n",
    "import seaborn as sns\n",
    "import scipy.stats\n",
    "import matplotlib.pyplot as plt\n",
    "import statistics as s\n",
    "\n",
    "plt.style.use('ggplot')\n",
    "%matplotlib inline"
   ],
   "outputs": [],
   "metadata": {}
  },
  {
   "cell_type": "markdown",
   "source": [
    "# Bi-Variate Linear REgression\n",
    "\n",
    "Bi-Variate Regression ::: When dataset has two variables whose relationships are being compared.\n",
    "\n",
    "EXAMPLE PROBLEM:\n",
    "30 homes with 6 variables\n",
    "Focus on price sqft lot size and baths\n",
    "\n",
    "* Price is the dependant(prediction) or response/outcome variable when using sqft to predict\n",
    "* SqFt is the indepdenant or predictor variable when trying to predict price\n",
    "\n",
    "## Independant Variable = X axis\n",
    "\n",
    "## Dependant Variable = Y axis\n",
    "\n",
    "### Defining a line\n",
    "    Y = M(x)+ B\n",
    "    where y : Dependant Variable\n",
    "    M = slope\n",
    "    B = y-intercept\n",
    "    R^2 = "
   ],
   "metadata": {}
  },
  {
   "cell_type": "code",
   "execution_count": null,
   "source": [
    "# df = pd.read_csv(data)\n",
    "# # Count nulls\n",
    "# df.isnull().sum()\n",
    "# # # Drop nulls\n",
    "# # df = df.dropna()\n",
    "# # # Check Data:describe();shape();keys();index();info();dtypes()\n",
    "# df.info() # isnull() works I prefer info()\n",
    "# x=df['SqFt']\n",
    "# y=df['Price']\n",
    "# print(x.corr(y,method='pearson'))\n",
    "# print(y.corr(x,method='pearson'))"
   ],
   "outputs": [],
   "metadata": {}
  },
  {
   "cell_type": "code",
   "execution_count": 47,
   "source": [
    "# data=Path('Home Prices Data.csv')\n",
    "# x=np.array([5,3,6,3,4,4,6,8])\n",
    "# y=np.array([15,13,9,2,23,11,9,5])\n",
    "# x=np.array([5,3,6,3,4,4,6,8])\n",
    "# y=np.array([13,15,7,12,13,11,9,5])\n",
    "# x=np.array([14,12,20,16,46,23,48,50,55,50])\n",
    "# y=np.array([24,14,28,30,80,30,90,85,120,110])\n",
    "# x=np.array([14,12,20,16,46,23,48,50,55,50])\n",
    "# y=np.array([24,14,28,30,80,30,90,85,120,110])\n",
    "# x=np.array([5,3,6,3,4,4,6,8])\n",
    "# y=np.array([15,13,9,2,23,11,9,5])\n"
   ],
   "outputs": [],
   "metadata": {}
  },
  {
   "cell_type": "code",
   "execution_count": 50,
   "source": [
    "x=np.array([14,23,48,50,55,50])\n",
    "y=np.array([24,30,90,85,120,110])\n",
    "\n",
    "independant='x'\n",
    "dependant='y'"
   ],
   "outputs": [],
   "metadata": {}
  },
  {
   "cell_type": "code",
   "execution_count": 46,
   "source": [
    "sns.scatterplot(x=x,y=y)"
   ],
   "outputs": [
    {
     "output_type": "execute_result",
     "data": {
      "text/plain": [
       "<AxesSubplot:>"
      ]
     },
     "metadata": {},
     "execution_count": 46
    },
    {
     "output_type": "display_data",
     "data": {
      "text/plain": [
       "<Figure size 432x288 with 1 Axes>"
      ],
      "image/png": "[encoded data removed]"
     },
     "metadata": {
      "needs_background": "light"
     }
    }
   ],
   "metadata": {}
  },
  {
   "cell_type": "code",
   "execution_count": 48,
   "source": [
    "print(np.corrcoef(x,y))"
   ],
   "outputs": [
    {
     "output_type": "stream",
     "name": "stdout",
     "text": [
      "[[1.         0.96687022]\n",
      " [0.96687022 1.        ]]\n"
     ]
    }
   ],
   "metadata": {}
  },
  {
   "cell_type": "code",
   "execution_count": 27,
   "source": [
    "# result = scipy.stats.linregress(x, y)\n",
    "slope, intercept, r, p, stderr = scipy.stats.linregress(x, y, alternative='two-sided')\n",
    "r2= r*r\n",
    "line = f'Rline: y={intercept:.3f}+{slope:.3f}x,r={r:.3f}, r^2={r2:.3f}'"
   ],
   "outputs": [],
   "metadata": {}
  },
  {
   "cell_type": "code",
   "execution_count": 28,
   "source": [
    "fig, ax = plt.subplots()\n",
    "ax.plot(x, y, linewidth=0, marker='s', label='Data points')\n",
    "ax.plot(x, intercept + slope * x, label=line)\n",
    "ax.set_xlabel(independant)\n",
    "ax.set_ylabel(dependant)\n",
    "ax.legend(facecolor='white')\n",
    "plt.show()"
   ],
   "outputs": [
    {
     "output_type": "display_data",
     "data": {
      "text/plain": [
       "<Figure size 432x288 with 1 Axes>"
      ],
      "image/png": "[encoded data removed]"
     },
     "metadata": {
      "needs_background": "light"
     }
    }
   ],
   "metadata": {}
  },
  {
   "cell_type": "code",
   "execution_count": 37,
   "source": [
    "# when x is blank what is y:---->>>>>\n",
    "problem_value=20\n",
    "solution=intercept+(slope*problem_value)\n",
    "print(solution)\n",
    "print('')\n",
    "print((round(solution,1)),'!!!!---->>>> Rounded to the Nearest whole Digit')"
   ],
   "outputs": [
    {
     "output_type": "stream",
     "name": "stdout",
     "text": [
      "30.61279229711141\n",
      "\n",
      "30.6 !!!!---->>>> Rounded to the Nearest whole Digit\n"
     ]
    }
   ],
   "metadata": {}
  },
  {
   "cell_type": "markdown",
   "source": [
    "\n",
    "* r^2 = variation interpreted as a percentage of data explained in price\n",
    "* r value = correlation between sqft & price \n",
    "* Correlation is bound by -1 and +1\n",
    "* if positive slope = postive correlation \n"
   ],
   "metadata": {}
  },
  {
   "cell_type": "code",
   "execution_count": null,
   "source": [
    "Xbar=s.mean(x)\n",
    "Ybar=s.mean(y)\n",
    "Xvar=s.variance(x)\n",
    "Yvar=s.variance(y)\n",
    "Xdev=s.stdev(x)\n",
    "Ydev=s.stdev(y)"
   ],
   "outputs": [],
   "metadata": {}
  },
  {
   "cell_type": "code",
   "execution_count": 41,
   "source": [
    "print(f'Mean of X or Xbar ={Xbar}')\n",
    "print(f'Mean of X or Xbar ={Ybar}')\n",
    "print('')\n",
    "print(f'Variance of X = {Xvar}')\n",
    "print(f'Variance of Y = {Yvar}')\n",
    "print('')\n",
    "print(f'Standard Deviation of X = {Xdev}')\n",
    "print(f'Standard Deviation of Y = {Ydev}')\n",
    "print('')\n",
    "print('VARIANCE   |   COVARIANCE')\n",
    "print('COVARIANCE |   VARIANCE')\n",
    "print(np.cov(x,y))\n",
    "print('')\n",
    "print('CORRELLATION COEFICIENT')\n",
    "print(np.corrcoef(x,y))"
   ],
   "outputs": [
    {
     "output_type": "stream",
     "name": "stdout",
     "text": [
      "Mean of X or Xbar =40\n",
      "Mean of X or Xbar =76\n",
      "\n",
      "Variance of X = 290\n",
      "Variance of Y = 1637\n",
      "\n",
      "Standard Deviation of X = 17.029386365926403\n",
      "Standard Deviation of Y = 40.45985664828782\n",
      "\n",
      "VARIANCE   |   COVARIANCE\n",
      "COVARIANCE |   VARIANCE\n",
      "[[ 290.8  667.2]\n",
      " [ 667.2 1637.5]]\n",
      "\n",
      "CORRELLATION COEFICIENT\n",
      "[[1.         0.96687022]\n",
      " [0.96687022 1.        ]]\n"
     ]
    }
   ],
   "metadata": {}
  },
  {
   "cell_type": "code",
   "execution_count": 31,
   "source": [
    "def estimate_coef(x, y):\n",
    "    # number of observations/points\n",
    "    n = np.size(x)\n",
    "\n",
    "    # mean of x and y vector\n",
    "    m_x = np.mean(x)\n",
    "    m_y = np.mean(y)  \n",
    "    \n",
    "    # calculating cross-deviation and deviation about x\n",
    "    SS_xy = np.sum(y*x) - n*m_y*m_x\n",
    "    SS_xx = np.sum(x*x) - n*m_x*m_x\n",
    "  \n",
    "    # calculating regression coefficients\n",
    "    b_1 = SS_xy / SS_xx\n",
    "    b_0 = m_y - b_1*m_x\n",
    "  \n",
    "    return (b_0, b_1)\n",
    "  \n",
    "def plot_regression_line(x, y, b):\n",
    "    # plotting the actual points as scatter plot\n",
    "    plt.scatter(x, y, color = \"m\",\n",
    "               marker = \"o\", s = 30)\n",
    "  \n",
    "    # predicted response vector\n",
    "    y_pred = b[0] + b[1]*x\n",
    "  \n",
    "    # plotting the regression line\n",
    "    plt.plot(x, y_pred, color = \"g\")\n",
    "  \n",
    "    # putting labels\n",
    "    plt.xlabel('x')\n",
    "    plt.ylabel('y')\n",
    "  \n",
    "    # function to show plot\n",
    "    plt.show()\n",
    "  \n",
    "def main():\n",
    "    # observations / data\n",
    "\n",
    "  \n",
    "    # estimating coefficients\n",
    "    b = estimate_coef(x, y)\n",
    "    print(\"Estimated coefficients:\\nb_0 = {}  \\\n",
    "          \\nb_1 = {}\".format(b[0], b[1]))\n",
    "  \n",
    "    # plotting regression line\n",
    "    plot_regression_line(x, y, b)\n",
    "  \n",
    "if __name__ == \"__main__\":\n",
    "    main()"
   ],
   "outputs": [
    {
     "output_type": "stream",
     "name": "stdout",
     "text": [
      "Estimated coefficients:\n",
      "b_0 = -15.274415405777162            \n",
      "b_1 = 2.294360385144429\n"
     ]
    },
    {
     "output_type": "display_data",
     "data": {
      "text/plain": [
       "<Figure size 432x288 with 1 Axes>"
      ],
      "image/png": "[encoded data removed]"
     },
     "metadata": {
      "needs_background": "light"
     }
    }
   ],
   "metadata": {}
  }
 ],
 "metadata": {
  "orig_nbformat": 4,
  "language_info": {
   "name": "python",
   "version": "3.8.8",
   "mimetype": "text/x-python",
   "codemirror_mode": {
    "name": "ipython",
    "version": 3
   },
   "pygments_lexer": "ipython3",
   "nbconvert_exporter": "python",
   "file_extension": ".py"
  },
  "kernelspec": {
   "name": "python3",
   "display_name": "Python 3.8.8 64-bit ('base': conda)"
  },
  "interpreter": {
   "hash": "e134e05457d34029b6460cd73bbf1ed73f339b5b6d98c95be70b69eba114fe95"
  }
 },
 "nbformat": 4,
 "nbformat_minor": 2
}