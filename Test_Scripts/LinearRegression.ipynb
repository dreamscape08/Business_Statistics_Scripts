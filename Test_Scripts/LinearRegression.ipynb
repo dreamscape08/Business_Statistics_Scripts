{
 "cells": [
  {
   "cell_type": "code",
   "execution_count": 1,
   "source": [
    "import pandas as pd \n",
    "import numpy as np\n",
    "import datetime as dt\n",
    "from pathlib import Path\n",
    "import seaborn as sns\n",
    "import scipy.stats\n",
    "import matplotlib.pyplot as plt\n",
    "import statistics as s\n",
    "\n",
    "plt.style.use('ggplot')\n",
    "%matplotlib inline"
   ],
   "outputs": [],
   "metadata": {}
  },
  {
   "cell_type": "markdown",
   "source": [
    "## SETUP YOUR PARAMETERS AND BE SURE TO RESET EVERY PROBLEM ! YOU GOT THIS "
   ],
   "metadata": {}
  },
  {
   "cell_type": "code",
   "execution_count": 20,
   "source": [
    "x=np.array([14,23,48,50,55,50])\n",
    "y=np.array([24,30,90,85,120,110])\n",
    "\n",
    "\n",
    "fx=input(\"solve for ?\")\n",
    "\n",
    "\n",
    "\n",
    "problem_value=fx"
   ],
   "outputs": [],
   "metadata": {}
  },
  {
   "cell_type": "code",
   "execution_count": 10,
   "source": [
    "independant='x'\n",
    "dependant='y'\n",
    "sns.scatterplot(x=x,y=y)\n",
    "# result = scipy.stats.linregress(x, y)\n",
    "# alternative = 'less'\n",
    "# alternative = 'greater\n",
    "slope, intercept, r, p, stderr = scipy.stats.linregress(x, y, alternative='two-sided')\n",
    "r2= r*r\n",
    "line = f'Rline: y={intercept:.3f}+{slope:.3f}x,r={r:.3f}, r^2={r2:.3f},std_error:{stderr:.3f}'\n",
    "fig, ax = plt.subplots()\n",
    "ax.plot(x, y, linewidth=0, marker='s', label='Data points')\n",
    "ax.plot(x, intercept + slope * x, label=line)\n",
    "ax.set_xlabel(independant)\n",
    "ax.set_ylabel(dependant)\n",
    "ax.legend(facecolor='white')\n",
    "plt.show()\n",
    "\n",
    "Xbar=s.mean(x)\n",
    "Ybar=s.mean(y)\n",
    "Xvar=s.variance(x)\n",
    "Yvar=s.variance(y)\n",
    "Xdev=s.stdev(x)\n",
    "Ydev=s.stdev(y)\n",
    "solution=intercept+(slope*problem_value)\n",
    "roundedsolution=round(solution,1)\n",
    "\n",
    "print(f'Mean of X or Xbar ={Xbar}')\n",
    "print(f'Mean of Y or Ybar ={Ybar}')\n",
    "print('')\n",
    "print(f'Variance of X = {Xvar}')\n",
    "print(f'Variance of Y = {Yvar}')\n",
    "print('')\n",
    "print(f'Standard Deviation of X = {Xdev}')\n",
    "print(f'Standard Deviation of Y = {Ydev}')\n",
    "print('')\n",
    "print('VARIANCE   |   COVARIANCE')\n",
    "print('COVARIANCE |   VARIANCE')\n",
    "print(np.cov(x,y))\n",
    "print('')\n",
    "print('CORRELLATION COEFICIENT')\n",
    "print(np.corrcoef(x,y))"
   ],
   "outputs": [
    {
     "output_type": "display_data",
     "data": {
      "text/plain": [
       "<Figure size 432x288 with 1 Axes>"
      ],
      "image/png": "[encoded data removed]"
     },
     "metadata": {
      "needs_background": "light"
     }
    },
    {
     "output_type": "display_data",
     "data": {
      "text/plain": [
       "<Figure size 432x288 with 1 Axes>"
      ],
      "image/png": "[encoded data removed]"
     },
     "metadata": {
      "needs_background": "light"
     }
    },
    {
     "output_type": "stream",
     "name": "stdout",
     "text": [
      "Mean of X or Xbar =40\n",
      "Mean of Y or Ybar =76\n",
      "\n",
      "Variance of X = 290\n",
      "Variance of Y = 1637\n",
      "\n",
      "Standard Deviation of X = 17.029386365926403\n",
      "Standard Deviation of Y = 40.45985664828782\n",
      "\n",
      "VARIANCE   |   COVARIANCE\n",
      "COVARIANCE |   VARIANCE\n",
      "[[ 290.8  667.2]\n",
      " [ 667.2 1637.5]]\n",
      "\n",
      "CORRELLATION COEFICIENT\n",
      "[[1.         0.96687022]\n",
      " [0.96687022 1.        ]]\n"
     ]
    }
   ],
   "metadata": {}
  },
  {
   "cell_type": "code",
   "execution_count": 19,
   "source": [
    "\n",
    "print(\"**********************************************\")\n",
    "print(\"* r^2 = variation interpreted as a percentage of data explained in price\")\n",
    "print(\"* r value = correlation between sqft & price\")\n",
    "print(\"* Correlation is bound by -1 and +1\")\n",
    "print(\"* if positive slope = postive correlation\")\n",
    "print(\"**********************************************\")\n",
    "print(\"**********************************************\")\n",
    "print(f'**SOLUTION ||||||| SOLUTION ||||||| SOLUTION**')\n",
    "print(\"**********************************************\")\n",
    "print(f'***{solution:.3f} ||||||||| {solution:.3f} ||||||||| {solution:.3f}***')\n",
    "print(\"**********************************************\")\n",
    "\n",
    "print('**!!!!---->>>> Rounded to Whole <<<<----!!!!**')\n",
    "print(f'******{roundedsolution} ||||||||| {roundedsolution} ||||||||| {roundedsolution}******')\n",
    "print(\"**********************************************\")\n",
    "print(\"**********************************************\")"
   ],
   "outputs": [
    {
     "output_type": "stream",
     "name": "stdout",
     "text": [
      "**********************************************\n",
      "* r^2 = variation interpreted as a percentage of data explained in price\n",
      "* r value = correlation between sqft & price\n",
      "* Correlation is bound by -1 and +1\n",
      "* if positive slope = postive correlation\n",
      "**********************************************\n",
      "**********************************************\n",
      "**SOLUTION ||||||| SOLUTION ||||||| SOLUTION**\n",
      "**********************************************\n",
      "***30.613 ||||||||| 30.613 ||||||||| 30.613***\n",
      "**********************************************\n",
      "**!!!!---->>>> Rounded to Whole <<<<----!!!!**\n",
      "******30.6 ||||||||| 30.6 ||||||||| 30.6******\n",
      "**********************************************\n",
      "**********************************************\n"
     ]
    }
   ],
   "metadata": {}
  },
  {
   "cell_type": "code",
   "execution_count": null,
   "source": [],
   "outputs": [],
   "metadata": {}
  }
 ],
 "metadata": {
  "orig_nbformat": 4,
  "language_info": {
   "name": "python",
   "version": "3.8.8",
   "mimetype": "text/x-python",
   "codemirror_mode": {
    "name": "ipython",
    "version": 3
   },
   "pygments_lexer": "ipython3",
   "nbconvert_exporter": "python",
   "file_extension": ".py"
  },
  "kernelspec": {
   "name": "python3",
   "display_name": "Python 3.8.8 64-bit ('base': conda)"
  },
  "interpreter": {
   "hash": "e134e05457d34029b6460cd73bbf1ed73f339b5b6d98c95be70b69eba114fe95"
  }
 },
 "nbformat": 4,
 "nbformat_minor": 2
}