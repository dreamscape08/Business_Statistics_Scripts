{
 "metadata": {
  "language_info": {
   "codemirror_mode": {
    "name": "ipython",
    "version": 3
   },
   "file_extension": ".py",
   "mimetype": "text/x-python",
   "name": "python",
   "nbconvert_exporter": "python",
   "pygments_lexer": "ipython3",
   "version": "3.8.8"
  },
  "orig_nbformat": 4,
  "kernelspec": {
   "name": "python3",
   "display_name": "Python 3.8.8 64-bit ('base': conda)"
  },
  "interpreter": {
   "hash": "e134e05457d34029b6460cd73bbf1ed73f339b5b6d98c95be70b69eba114fe95"
  }
 },
 "nbformat": 4,
 "nbformat_minor": 2,
 "cells": [
  {
   "cell_type": "markdown",
   "source": [
    "# ANOVA EXAMPLE WALKTHROUGH\n",
    "\n",
    "## ANOVA STEP_BY_STEP\n",
    "\n",
    "![img](../readme_files/ANOVA.png)\n",
    "\n",
    "## ANOVA STEP_BY_STEP \n",
    "\n",
    "## Step One\n",
    "\n",
    "  +  State  Null Hypothesis and  Alternative Hypothesis (h0,h1)\n",
    "    + (h0) : Null Hypothesis = the mean scores are EQUAL for all four airlines\n",
    "    + (h1) : Alternative Hypothesis = the mean scores are NOT EQUAL for all four airlines\n",
    "\n",
    "## Step Two\n",
    "\n",
    "  + Select the Level of Significance\n",
    "\n",
    "## Step Three\n",
    "\n",
    "  + Determine the test Statistic\n",
    "\n",
    "## How to Find the F Critical Value in Python\n",
    "\n",
    "+ To find the F critical value in Python, you can use the scipy.stats.f.ppf() function, which uses the following syntax:\n",
    " + scipy.stats.f.ppf(q, dfn, dfd) ---->> where:\n",
    "   +   q: The significance level to use\n",
    "   +   dfn: The numerator degrees of freedom\n",
    "   +   dfd: The denominator degrees of freedom\n"
   ],
   "metadata": {}
  },
  {
   "cell_type": "code",
   "execution_count": 3,
   "source": [
    "import scipy.stats as st\n",
    "import statistics\n",
    "import numpy as np\n",
    "import pandas as pd\n",
    "import statsmodels.api as sm\n",
    "from statsmodels.formula.api import ols\n",
    "\n",
    "# \\/||\\/||\\/||\\/||:More inputs in the hidden tab below:||\\/||\\/||\\/||\\/"
   ],
   "outputs": [],
   "metadata": {}
  },
  {
   "cell_type": "code",
   "execution_count": 4,
   "source": [
    "# Data= {'Northern':[94,90,85,80],'WTA':[75,68,77,83,88],'Pocono':[70,73,76,78,80,68,65],'Branson':[68,70,72,65,74,65]}\n",
    "\n",
    "# Northern=[94,90,85,80]\n",
    "# WTA=[75,68,77,83,88]\n",
    "# Pocono=[70,73,76,78,80,68,65]\n",
    "# Branson=[68,70,72,65,74,65]\n",
    "# f,p=st.f_oneway(Northern,WTA,Pocono,Branson)\n",
    "\n",
    "# f=round(f,2)\n",
    "# p=round(p,5)\n",
    "# # airlines= [Northern,WTA,Pocono,Branson]\n",
    "# Data={'System1':[38.8,42.1,45.2,34.8,48.3,37.8,41.1,43.6],'System2':[41.8,36.4,39.1,28.7,36.4,36.1,35.8,33.7],'System3':[32.9,36.1,39.2,29.3,41.9,31.7,35.2,38.1]}\n",
    "# f ,p = st.f_oneway(Data['System1'],Data['System2'],Data['System3'])"
   ],
   "outputs": [],
   "metadata": {}
  },
  {
   "cell_type": "code",
   "execution_count": 5,
   "source": [
    "st.f.ppf(.05, 1, 10)"
   ],
   "outputs": [
    {
     "output_type": "execute_result",
     "data": {
      "text/plain": [
       "0.004134251597591583"
      ]
     },
     "metadata": {},
     "execution_count": 5
    }
   ],
   "metadata": {}
  },
  {
   "cell_type": "code",
   "execution_count": 6,
   "source": [
    "# Data={'group1':[2,5,4,7,6],'group2':[2,5,2,3,1],'group3':[3,4,8,7,7]}#,'group4':[9,9,11,8,8]}\n",
    "Data={'group1':[2,5,4,4,3,2],'group2':[2,5,2,3,1,1],'group3':[4,9,8,7,7,4]}\n",
    "\n",
    "f,p=st.f_oneway(Data['group1'],Data['group2'],Data['group3'])#,Data['group4'])\n",
    "f0=round(f,2)\n",
    "p0=round(p,5)\n",
    "print(f0,p0)\n",
    "\n",
    "f,p=st.f_oneway(Data['group1'],Data['group2'])\n",
    "f1=round(f,2)\n",
    "p1=round(p,5)\n",
    "print(f1,p1)\n",
    "\n",
    "f,p=st.f_oneway(Data['group1'],Data['group3'])\n",
    "f2=round(f,2)\n",
    "p2=round(p,5)\n",
    "print(f2,p2)\n",
    "\n",
    "f,p=st.f_oneway(Data['group2'],Data['group3'])\n",
    "f3=round(f,2)\n",
    "p3=round(p,5)\n",
    "print(f3,p3)"
   ],
   "outputs": [
    {
     "output_type": "stream",
     "name": "stdout",
     "text": [
      "10.6 0.00135\n",
      "1.61 0.23362\n",
      "10.43 0.00902\n",
      "15.86 0.00259\n"
     ]
    }
   ],
   "metadata": {}
  },
  {
   "cell_type": "code",
   "execution_count": 7,
   "source": [
    "#set Alpha Level\n",
    "alpha_level= .05\n",
    "al=alpha_level"
   ],
   "outputs": [],
   "metadata": {}
  },
  {
   "cell_type": "code",
   "execution_count": 8,
   "source": [
    "# scipy.stats.f.ppf(q, dfn, dfd)\n",
    "# q: The significance level to use\n",
    "# dfn: The numerator degrees of freedom\n",
    "# dfd: The denominator degrees of freedom"
   ],
   "outputs": [],
   "metadata": {}
  },
  {
   "cell_type": "code",
   "execution_count": 9,
   "source": [
    "listed_data=[]\n",
    "samplesize=0\n",
    "for name in Data:\n",
    "    for x in Data[name]:\n",
    "        listed_data.append(x)\n",
    "samplesize=len(listed_data)\n",
    "q = (1-al) # this is equal to 1 - alpha level\n",
    "\n",
    "number_of_groups=len(Data)\n",
    "dfn = (number_of_groups-1)\n",
    "dfd = (samplesize-number_of_groups)\n",
    "critical_level=st.f.ppf(q,dfn,dfd)\n",
    "cl = round(critical_level,3)\n",
    "\n",
    "if f1 > cl:\n",
    "    symbol = 'GREATER'\n",
    "    operate= 'REJECT'\n",
    "if f1 < cl:\n",
    "    symbol = 'LESSER'\n",
    "    operate = 'APPROVE'\n",
    "\n",
    "print('   Parameters of ANOVA TEST')\n",
    "print('---------------------------')\n",
    "print('')\n",
    "\n",
    "grand_mean_total = 0\n",
    "grand_total = 0\n",
    "for name in Data:\n",
    "    Sum=sum(Data[name])\n",
    "    Mean = statistics.mean(Data[name])\n",
    "    grand_mean_total += Mean\n",
    "    Median =  round(statistics.median(Data[name]),2)\n",
    "    Mode = round(statistics.mode(Data[name]),2)\n",
    "    # print(f'Group Name: {name}')\n",
    "    # print(f'Mean: {Mean} | Median: {Median} | Mode: {Mode}')\n",
    "    # print('')\n",
    "    for x in Data[name]:\n",
    "        grand_total += x\n",
    "grand_mean=(grand_total/samplesize)\n",
    "# grand_mean=round(((grand_mean_total)/(number_of_airlines)),2)\n",
    "\n",
    "squared_sum_total=0\n",
    "sse= 0\n",
    "\n",
    "for name in Data:\n",
    "    mean=statistics.mean(Data[name])\n",
    "    for x in Data[name]:\n",
    "        squared_sum_total += (((x)-grand_mean)*((x)-grand_mean))\n",
    "        sse += (((x)-mean)*((x)-mean))\n",
    "ss_total=round(squared_sum_total,2)\n",
    "sse=round(sse,2)\n",
    "sum_squares_treatments=round((ss_total-sse),3)\n",
    "mean_square_treatments=round(((sum_squares_treatments)/(dfn)),3)\n",
    "mean_square_error=round((sse/dfd),3)\n",
    "mst=mean_square_treatments\n",
    "mse=mean_square_error\n",
    "f_score=round((mst/mse),2)\n",
    "sst=sum_squares_treatments\n",
    "\n",
    "\n",
    "\n",
    "table=(print('   ANALYSIS of ANOVA TEST'),\n",
    "                print('---------------------------'),\n",
    "                print(''),\n",
    "                print(f'F-Score : {f1} | P-Value : {p1}'),\n",
    "                print(''),\n",
    "                print(f'The F-Score: {f1} is {symbol} than Critical Level: {cl}'),\n",
    "                print(''),\n",
    "                print(f'{operate} the Null Hypothesis'),\n",
    "                print(''),\n",
    "                # print(f'The Grand Mean: {grand_mean}'),\n",
    "                # print(''),\n",
    "                print('-------------------------------------------------------------'),\n",
    "                print(''),\n",
    "                print(''),\n",
    "                print(f'Source of Variation | Sum of Squares | Degree of Freedom | Mean Square | F-score'),\n",
    "                print(f'Treatments  ------- |  {sst}         |     {dfn}             |  {mst}      |   {f_score}'),\n",
    "                print(f'Error   ----------- |  {sse}         |     {dfd}            |  {mse}       |            '),\n",
    "                print(f'    Total  -------- |  {ss_total}        |'),\n",
    "    )"
   ],
   "outputs": [
    {
     "output_type": "stream",
     "name": "stdout",
     "text": [
      "   Parameters of ANOVA TEST\n",
      "---------------------------\n",
      "\n",
      "   ANALYSIS of ANOVA TEST\n",
      "---------------------------\n",
      "\n",
      "F-Score : 1.61 | P-Value : 0.23362\n",
      "\n",
      "The F-Score: 1.61 is LESSER than Critical Level: 3.682\n",
      "\n",
      "APPROVE the Null Hypothesis\n",
      "\n",
      "-------------------------------------------------------------\n",
      "\n",
      "\n",
      "Source of Variation | Sum of Squares | Degree of Freedom | Mean Square | F-score\n",
      "Treatments  ------- |  56.77         |     2             |  28.385      |   10.6\n",
      "Error   ----------- |  40.17         |     15            |  2.678       |            \n",
      "    Total  -------- |  96.94        |\n"
     ]
    }
   ],
   "metadata": {}
  },
  {
   "cell_type": "code",
   "execution_count": 10,
   "source": [
    "groups=4\n",
    "samplesize=15\n",
    "dfn=groups-1\n",
    "# THIS IS IMPORTANT TO MAKE SURE YOU HAVE RIGHT \n",
    "dfd=(samplesize)-groups\n",
    "# dfd=(samplesize*groups)-groups\n",
    "sst=140.4\n",
    "sse=47.6\n",
    "ss_total=sst+sse\n",
    "mst=round(sst/dfn,1)\n",
    "mse=round(sse/dfd,1)\n",
    "f_score=round(mst/mse,2)\n",
    "\n",
    "\n",
    "print(f'Source of Variation | Sum of Squares | Degree of Freedom | Mean Square | F-score')\n",
    "print(f'Treatments  ------- |  {sst}         |     {dfn}             |  {mst}       |   {f_score}')\n",
    "print(f'Error   ----------- |  {sse}          |     {dfd}            |  {mse}        |            ')\n",
    "print(f'    Total  -------- |  {ss_total}         |                   |             |             ')\n"
   ],
   "outputs": [
    {
     "output_type": "stream",
     "name": "stdout",
     "text": [
      "Source of Variation | Sum of Squares | Degree of Freedom | Mean Square | F-score\n",
      "Treatments  ------- |  140.4         |     3             |  46.8       |   10.88\n",
      "Error   ----------- |  47.6          |     11            |  4.3        |            \n",
      "    Total  -------- |  188.0         |                   |             |             \n"
     ]
    }
   ],
   "metadata": {}
  },
  {
   "cell_type": "code",
   "execution_count": 11,
   "source": [
    "allgroups = [[2,5,4,7,6],[2,5,2,3,1],[3,4,8,7,7]]\n",
    "\n",
    "def avg(group): #Average List\n",
    "    return float(sum(group))/len(group)\n",
    "def sum_of_squares(group):\n",
    "    mean = avg(group)\n",
    "    return sum([(i-mean)**2 for i in group])\n",
    "\n",
    "flat_list = [y for x in allgroups for y in x]\n",
    "ss_total = sum_of_squares(flat_list)\n",
    "sse = sum([sum_of_squares(i) for i in allgroups])\n",
    "sst = round((ss_total - sse),3)\n",
    "# import statsmodels.api as sm\n",
    "# from statsmodels.formula.api import ols\n",
    "# import numpy as np\n",
    "data = pd.DataFrame({'group':np.repeat(np.arange(3),5),'value':flat_list})\n",
    "moore_lm = ols('value ~ C(group)',data=data).fit()\n",
    "sm.stats.anova_lm(moore_lm, typ=1)"
   ],
   "outputs": [
    {
     "output_type": "execute_result",
     "data": {
      "text/plain": [
       "            df  sum_sq    mean_sq         F    PR(>F)\n",
       "C(group)   2.0    26.8  13.400000  3.757009  0.054076\n",
       "Residual  12.0    42.8   3.566667       NaN       NaN"
      ],
      "text/html": [
       "<div>\n",
       "<style scoped>\n",
       "    .dataframe tbody tr th:only-of-type {\n",
       "        vertical-align: middle;\n",
       "    }\n",
       "\n",
       "    .dataframe tbody tr th {\n",
       "        vertical-align: top;\n",
       "    }\n",
       "\n",
       "    .dataframe thead th {\n",
       "        text-align: right;\n",
       "    }\n",
       "</style>\n",
       "<table border=\"1\" class=\"dataframe\">\n",
       "  <thead>\n",
       "    <tr style=\"text-align: right;\">\n",
       "      <th></th>\n",
       "      <th>df</th>\n",
       "      <th>sum_sq</th>\n",
       "      <th>mean_sq</th>\n",
       "      <th>F</th>\n",
       "      <th>PR(&gt;F)</th>\n",
       "    </tr>\n",
       "  </thead>\n",
       "  <tbody>\n",
       "    <tr>\n",
       "      <th>C(group)</th>\n",
       "      <td>2.0</td>\n",
       "      <td>26.8</td>\n",
       "      <td>13.400000</td>\n",
       "      <td>3.757009</td>\n",
       "      <td>0.054076</td>\n",
       "    </tr>\n",
       "    <tr>\n",
       "      <th>Residual</th>\n",
       "      <td>12.0</td>\n",
       "      <td>42.8</td>\n",
       "      <td>3.566667</td>\n",
       "      <td>NaN</td>\n",
       "      <td>NaN</td>\n",
       "    </tr>\n",
       "  </tbody>\n",
       "</table>\n",
       "</div>"
      ]
     },
     "metadata": {},
     "execution_count": 11
    }
   ],
   "metadata": {}
  },
  {
   "cell_type": "code",
   "execution_count": 12,
   "source": [
    "critical_level=st.f.ppf(.95,dfn,dfd)\n",
    "cl = round(critical_level,3)\n",
    "print(cl)"
   ],
   "outputs": [
    {
     "output_type": "stream",
     "name": "stdout",
     "text": [
      "3.587\n"
     ]
    }
   ],
   "metadata": {}
  },
  {
   "cell_type": "markdown",
   "source": [
    "# TOTAL \\# n: Sample Size > 30"
   ],
   "metadata": {}
  },
  {
   "cell_type": "code",
   "execution_count": 13,
   "source": [
    "#use if number of obs is greater than 30\n",
    "alphalevel=.95\n",
    "alt=round(alphalevel*100)\n",
    "decimalplaces = 3\n",
    "print('Lower  |    Upper :   Group Names')\n",
    "print(\"--------------------------------------\")\n",
    "print(f'At Alpha Level: % {alt}')\n",
    "print('')\n",
    "x,y=(st.norm.interval(alpha=alphalevel, loc=np.mean(Data['group1']), scale=st.sem(Data['group1'])))\n",
    "x=round((x),decimalplaces)\n",
    "y=round((y),decimalplaces)\n",
    "print(f'( {x}, {y} )  --Group 1 Intervals')\n",
    "\n",
    "x,y=(st.norm.interval(alpha=alphalevel, loc=np.mean(Data['group2']), scale=st.sem(Data['group2'])))\n",
    "x=round((x),decimalplaces)\n",
    "y=round((y),decimalplaces)\n",
    "print(f'( {x}, {y} )  --Group 2 Intervals')\n",
    "\n",
    "x,y=(st.norm.interval(alpha=alphalevel, loc=np.mean(Data['group3']), scale=st.sem(Data['group3'])))\n",
    "x=round((x),decimalplaces)\n",
    "y=round((y),decimalplaces)\n",
    "print(f'( {x}, {y} )  --Group 3 Intervals')"
   ],
   "outputs": [
    {
     "output_type": "stream",
     "name": "stdout",
     "text": [
      "Lower  |    Upper :   Group Names\n",
      "--------------------------------------\n",
      "At Alpha Level: % 95\n",
      "\n",
      "( 2.364, 4.302 )  --Group 1 Intervals\n",
      "( 1.129, 3.538 )  --Group 2 Intervals\n",
      "( 4.841, 8.159 )  --Group 3 Intervals\n"
     ]
    }
   ],
   "metadata": {}
  },
  {
   "cell_type": "markdown",
   "source": [
    "# TOTAL \\# n: Sample Size < 30 "
   ],
   "metadata": {}
  },
  {
   "cell_type": "code",
   "execution_count": 14,
   "source": [
    "alphalevel=.95\n",
    "alt=round(alphalevel*100)\n",
    "decimalplaces = 3\n",
    "print('Lower  |    Upper :   Group Names')\n",
    "print(\"--------------------------------------\")\n",
    "print(f'At Alpha Level: % {alt}')\n",
    "print('')\n",
    "x,y=(st.t.interval(alpha=alphalevel, df=len(Data['group1'])-1, loc=np.mean(Data['group1']), scale=st.sem(Data['group1'])))\n",
    "x=round((x),decimalplaces)\n",
    "y=round((y),decimalplaces)\n",
    "print(f'( {x}, {y} )  --Group 1 Intervals')\n",
    "\n",
    "x,y=(st.t.interval(alpha=alphalevel, df=len(Data['group2'])-1, loc=np.mean(Data['group2']), scale=st.sem(Data['group2'])))\n",
    "x=round((x),decimalplaces)\n",
    "y=round((y),decimalplaces)\n",
    "print(f'( {x}, {y} )  --Group 2 Intervals')\n",
    "\n",
    "x,y=(st.t.interval(alpha=alphalevel, df=len(Data['group3'])-1, loc=np.mean(Data['group3']), scale=st.sem(Data['group3'])))\n",
    "x=round((x),decimalplaces)\n",
    "y=round((y),decimalplaces)\n",
    "print(f'( {x}, {y} )  --Group 3 Intervals')"
   ],
   "outputs": [
    {
     "output_type": "stream",
     "name": "stdout",
     "text": [
      "Lower  |    Upper :   Group Names\n",
      "--------------------------------------\n",
      "At Alpha Level: % 95\n",
      "\n",
      "( 2.062, 4.604 )  --Group 1 Intervals\n",
      "( 0.753, 3.913 )  --Group 2 Intervals\n",
      "( 4.324, 8.676 )  --Group 3 Intervals\n"
     ]
    }
   ],
   "metadata": {}
  }
 ]
}