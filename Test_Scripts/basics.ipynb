{
 "cells": [
  {
   "cell_type": "code",
   "execution_count": 4,
   "source": [
    "import numpy as np\n",
    "import statistics as statistics"
   ],
   "outputs": [],
   "metadata": {}
  },
  {
   "cell_type": "code",
   "execution_count": 16,
   "source": [
    "rangeX =np.array ([5,7,7,8,9,11,14,16,19,24,26])\n",
    "roundby=2"
   ],
   "outputs": [],
   "metadata": {}
  },
  {
   "cell_type": "code",
   "execution_count": 17,
   "source": [
    "print('MEAN')\n",
    "print(round((statistics.fmean(rangeX)),roundby))\n",
    "print('MEDIAN')\n",
    "print(statistics.median(rangeX))\n",
    "print('MODE')\n",
    "print(statistics.mode(rangeX))\n",
    "Range=(max(rangeX)-min(rangeX))\n",
    "print('RANGE')\n",
    "print(Range)\n",
    "n = len(rangeX)\n",
    "sample_size = n\n",
    "print(f'Sample Size = {n}')\n",
    "print('Standard or Sample Variance')\n",
    "print(round(statistics.variance(rangeX,Mean),roundby))\n",
    "print('Population Variance')\n",
    "print(round(statistics.pvariance(rangeX,Mean),roundby))\n",
    "print('Sample or Standard Deviation')\n",
    "print(round(statistics.stdev(rangeX,Mean),roundby))\n",
    "print('Population Standard Deviation')\n",
    "print(round(statistics.pstdev(rangeX,Mean),roundby))"
   ],
   "outputs": [
    {
     "output_type": "stream",
     "name": "stdout",
     "text": [
      "MEAN\n",
      "13.27\n",
      "MEDIAN\n",
      "11\n",
      "MODE\n",
      "7\n",
      "RANGE\n",
      "21\n",
      "Sample Size = 11\n",
      "Standard or Sample Variance\n",
      "51.62\n",
      "Population Variance\n",
      "46.93\n",
      "Sample or Standard Deviation\n",
      "7.18\n",
      "Population Standard Deviation\n",
      "6.85\n"
     ]
    }
   ],
   "metadata": {}
  },
  {
   "cell_type": "markdown",
   "source": [
    "# loc= mean\n",
    "\n",
    "## scale= std \n",
    "\n",
    "## what interval are you looking for 95,94,99 %%%\n",
    "\n",
    "## what are the possible ranges and find the obvious choice "
   ],
   "metadata": {}
  },
  {
   "cell_type": "code",
   "execution_count": null,
   "source": [
    "import numpy as np, scipy.stats as st\n",
    "st.norm.interval(0.9544, loc=20, scale=3)"
   ],
   "outputs": [],
   "metadata": {}
  },
  {
   "cell_type": "code",
   "execution_count": 15,
   "source": [
    "# rangeX =np.array ([4,7,7,7,11,12,15,17,20,25,27])\n",
    "length=len(rangeX)\n",
    "if (length % 2) == 0:\n",
    "    print('ARE YOU SURE YOU KNOW WHAT YOUR ARE DOING FOOL')\n",
    "else:\n",
    "    midline=round(length/2)\n",
    "    Q1 = np.median(rangeX[:midline])\n",
    "    Q2 = np.median(rangeX)\n",
    "    Q3 =np.median(rangeX[midline:])\n",
    "    IQR=Q3-Q1\n",
    "    print(f'Q1 : {Q1}')\n",
    "    print(f'Q2 : {Q2}')\n",
    "    print(f'Q3 : {Q3}')\n",
    "    print(f'IQR : {IQR}')"
   ],
   "outputs": [
    {
     "output_type": "stream",
     "name": "stdout",
     "text": [
      "Q1 : 7.5\n",
      "Q2 : 11.0\n",
      "Q3 : 19.0\n",
      "IQR : 11.5\n"
     ]
    }
   ],
   "metadata": {}
  },
  {
   "cell_type": "code",
   "execution_count": 1,
   "source": [
    "import scipy.stats as st\n",
    "st.norm(10.95,3).cdf(13)-st.norm(10.95,3).cdf(9)"
   ],
   "outputs": [
    {
     "output_type": "execute_result",
     "data": {
      "text/plain": [
       "0.4949557713674743"
      ]
     },
     "metadata": {},
     "execution_count": 1
    }
   ],
   "metadata": {}
  },
  {
   "cell_type": "code",
   "execution_count": 2,
   "source": [
    "from scipy.stats import t\n",
    "st.norm(loc=16.3,scale=4.9).cdf(15.5)"
   ],
   "outputs": [
    {
     "output_type": "execute_result",
     "data": {
      "text/plain": [
       "0.43515477452316675"
      ]
     },
     "metadata": {},
     "execution_count": 2
    }
   ],
   "metadata": {}
  },
  {
   "cell_type": "code",
   "execution_count": null,
   "source": [],
   "outputs": [],
   "metadata": {}
  }
 ],
 "metadata": {
  "orig_nbformat": 4,
  "language_info": {
   "name": "python",
   "version": "3.8.8",
   "mimetype": "text/x-python",
   "codemirror_mode": {
    "name": "ipython",
    "version": 3
   },
   "pygments_lexer": "ipython3",
   "nbconvert_exporter": "python",
   "file_extension": ".py"
  },
  "kernelspec": {
   "name": "python3",
   "display_name": "Python 3.8.8 64-bit ('base': conda)"
  },
  "interpreter": {
   "hash": "e134e05457d34029b6460cd73bbf1ed73f339b5b6d98c95be70b69eba114fe95"
  }
 },
 "nbformat": 4,
 "nbformat_minor": 2
}