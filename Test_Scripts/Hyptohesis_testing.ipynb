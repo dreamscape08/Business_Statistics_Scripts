{
 "metadata": {
  "language_info": {
   "codemirror_mode": {
    "name": "ipython",
    "version": 3
   },
   "file_extension": ".py",
   "mimetype": "text/x-python",
   "name": "python",
   "nbconvert_exporter": "python",
   "pygments_lexer": "ipython3",
   "version": "3.8.8"
  },
  "orig_nbformat": 4,
  "kernelspec": {
   "name": "python3",
   "display_name": "Python 3.8.8 64-bit ('base': conda)"
  },
  "interpreter": {
   "hash": "e134e05457d34029b6460cd73bbf1ed73f339b5b6d98c95be70b69eba114fe95"
  }
 },
 "nbformat": 4,
 "nbformat_minor": 2,
 "cells": [
  {
   "cell_type": "markdown",
   "source": [
    "# WELCOME TO CIS3300 DESCRIPTIVE STATISTICS CHEAT SHEET"
   ],
   "metadata": {}
  },
  {
   "cell_type": "code",
   "execution_count": 8,
   "source": [
    "# import dependent packages\n",
    "import pandas as pd \n",
    "import matplotlib as mpl \n",
    "import matplotlib.pyplot as plt \n",
    "import scipy as sp\n",
    "from scipy import stats as st \n",
    "import numpy as np\n",
    "from scipy.stats import norm as nm\n",
    "from scipy.stats import binom\n",
    "import scipy.stats as stats\n",
    "import numpy as np"
   ],
   "outputs": [],
   "metadata": {}
  },
  {
   "cell_type": "markdown",
   "source": [
    "## To find support upper and lower bounds of the distribution call:\n",
    "'''\n",
    "We can list all methods and properties of the distribution with dir(norm). \n",
    "As it turns out, some of the methods are private, although they are not named \n",
    "as such (their names do not start with a leading underscore), for example veccdf, \n",
    "are only available for internal calculation (those methods will give warnings \n",
    "when one tries to use them, and will be removed at some point).To obtain the \n",
    "real main methods, we list the methods of the frozen distribution. (We explain \n",
    "the meaning of a frozen distribution below).\n",
    "'''"
   ],
   "metadata": {}
  },
  {
   "cell_type": "code",
   "execution_count": 11,
   "source": [
    "# print('Bounds of Distribution: Lower: %s| Upper: %s' % nm.support())\n",
    "x = np.array([2, 5, 7, 12, 18, 19, 23, 25, 35, 39, 41])\n",
    "st.describe(x)"
   ],
   "outputs": [
    {
     "output_type": "stream",
     "name": "stdout",
     "text": [
      "Bounds of Distribution: Lower: -inf| Upper: inf\n"
     ]
    },
    {
     "output_type": "execute_result",
     "data": {
      "text/plain": [
       "DescribeResult(nobs=11, minmax=(2, 41), mean=20.545454545454547, variance=184.47272727272727, skewness=0.19680721661841055, kurtosis=-1.2193997791906996)"
      ]
     },
     "metadata": {},
     "execution_count": 11
    }
   ],
   "metadata": {}
  },
  {
   "cell_type": "markdown",
   "source": [
    "# Calculating probability with given parameters of N,P,f(x)"
   ],
   "metadata": {}
  },
  {
   "cell_type": "code",
   "execution_count": 12,
   "source": [
    "x = 3\n",
    "n = 5\n",
    "p = .25\n",
    "mean,var,skew,kurt = binom.stats(n,p,moments='mvsk')\n",
    "\n",
    "values=round((binom.pmf(x, n, p)),4)\n",
    "stddev=round(np.sqrt(var),4)\n",
    "\n",
    "twosided=round(stats.binom_test(x,n,p, alternative=\"two-sided\"),4)\n",
    "greater=round(stats.binom_test(x,n,p, alternative=\"greater\"),4)\n",
    "less=round(stats.binom_test(x,n,p, alternative=\"less\"),4)\n",
    "\n",
    "percent=p*100\n",
    "percents=round(percent)\n",
    "\n",
    "print('***  PROBABILITY ANALYSIS REPORT  ***')\n",
    "print(f'Probability Analysis of           {x}')\n",
    "print(f'Expected Probability of sample: % {percents}')\n",
    "print(f'Sample Size Count:              # {n}')\n",
    "print('')\n",
    "print(f'Exact Probability:          (=)   {values}')\n",
    "print(f'At Least :                  (>)   {greater}')\n",
    "print(f'At Most:                    (<)   {less}')\n",
    "print('')\n",
    "print(f'Expected Mean: {mean}| Std Dev:      {stddev}|')"
   ],
   "outputs": [
    {
     "output_type": "stream",
     "name": "stdout",
     "text": [
      "***  PROBABILITY ANALYSIS REPORT  ***\n",
      "Probability Analysis of           3\n",
      "Expected Probability of sample: % 25\n",
      "Sample Size Count:              # 5\n",
      "\n",
      "Exact Probability:          (=)   0.0879\n",
      "At Least :                  (>)   0.1035\n",
      "At Most:                    (<)   0.9844\n",
      "\n",
      "Expected Mean: 1.25| Std Dev:      0.9682|\n"
     ]
    }
   ],
   "metadata": {}
  },
  {
   "cell_type": "markdown",
   "source": [
    "# FINDING PROBABILITY USING Z SCORES </> | | >/< "
   ],
   "metadata": {}
  },
  {
   "cell_type": "markdown",
   "source": [
    "# P(Z < X)"
   ],
   "metadata": {}
  },
  {
   "cell_type": "code",
   "execution_count": 45,
   "source": [
    "x = .43\n",
    "prob = round(st.norm.cdf(x),4)\n",
    "print(f' Z < {x}   Prob: {prob}')"
   ],
   "outputs": [
    {
     "output_type": "stream",
     "name": "stdout",
     "text": [
      " Z < 0.43   Prob: 0.6664\n"
     ]
    }
   ],
   "metadata": {}
  },
  {
   "cell_type": "markdown",
   "source": [
    "# P(Z > X)"
   ],
   "metadata": {}
  },
  {
   "cell_type": "code",
   "execution_count": 24,
   "source": [
    "x = -2\n",
    "prob = round(st.norm.cdf(-x),4)\n",
    "print(f' Z > {x}   Prob: {prob}')"
   ],
   "outputs": [
    {
     "output_type": "stream",
     "name": "stdout",
     "text": [
      " Z > -2   Prob: 0.9772\n"
     ]
    }
   ],
   "metadata": {}
  },
  {
   "cell_type": "markdown",
   "source": [
    "# P(X <Z< X)"
   ],
   "metadata": {}
  },
  {
   "cell_type": "code",
   "execution_count": 27,
   "source": [
    "x_1 =  -0.25\n",
    "x_2 =  0.75\n",
    "\n",
    "prob_1= st.norm.cdf(x_1)\n",
    "prob_2= st.norm.cdf(x_2)\n",
    "\n",
    "total = round((prob_2-prob_1),4)\n",
    "\n",
    "print(f'{x_1} < Z < {x_2}')\n",
    "print('')\n",
    "print(f'PROB: {total}')"
   ],
   "outputs": [
    {
     "output_type": "stream",
     "name": "stdout",
     "text": [
      "-0.25 < Z < 0.75\n",
      "\n",
      "PROB: 0.3721\n"
     ]
    }
   ],
   "metadata": {}
  },
  {
   "cell_type": "code",
   "execution_count": null,
   "source": [],
   "outputs": [],
   "metadata": {}
  },
  {
   "cell_type": "markdown",
   "source": [
    "# SAMPLE MEAN AND THE CENTRAL LIMIT THEOREM"
   ],
   "metadata": {}
  },
  {
   "cell_type": "code",
   "execution_count": 2,
   "source": [
    "import scipy.stats as stats\n",
    "import numpy as np "
   ],
   "outputs": [],
   "metadata": {}
  },
  {
   "cell_type": "code",
   "execution_count": 6,
   "source": [
    "avgvalue=17\n",
    "standarddeviation=5\n",
    "samplesize=25\n",
    "\n",
    "standarderror= round((standarddeviation / (np.sqrt(samplesize))),4)\n",
    "cl=.95\n",
    "confidence_level = round(stats.norm.ppf(1-((1-cl)/2)),3)\n",
    "sample_standard_error = (standarddeviation / (np.sqrt(samplesize-1)))\n",
    "clt=(confidence_level*sample_standard_error)\n",
    "high = round((avgvalue+clt),2)\n",
    "low = round((avgvalue-clt),2)\n",
    "clevel=cl*100\n",
    "\n",
    "\n",
    "print(f'Sample Mean:    ${avgvalue}')\n",
    "print(f'Standard Error: ${standarderror}')\n",
    "print(f'Z score: {confidence_level} :   % {clevel}')\n",
    "print(f'low interval of {low} | high interval of {high}')"
   ],
   "outputs": [
    {
     "output_type": "stream",
     "name": "stdout",
     "text": [
      "Sample Mean:    $17\n",
      "Standard Error: $1.0\n",
      "Z score: 1.96 :   % 95.0\n",
      "low interval of 15.0 | high interval of 19.0\n"
     ]
    }
   ],
   "metadata": {}
  },
  {
   "cell_type": "code",
   "execution_count": 31,
   "source": [
    "import scipy.stats as st\n",
    "#st.norm(10.95,3).cdf(13)-st.norm(10.95,3).cdf(9)\n",
    "st.norm(20,3).cdf(13)"
   ],
   "outputs": [
    {
     "output_type": "execute_result",
     "data": {
      "text/plain": [
       "0.4949557713674743"
      ]
     },
     "metadata": {},
     "execution_count": 31
    }
   ],
   "metadata": {}
  },
  {
   "cell_type": "code",
   "execution_count": 41,
   "source": [
    "from scipy.stats import t\n",
    "st.norm(loc=16.3,scale=4.9).cdf(15.5)"
   ],
   "outputs": [
    {
     "output_type": "execute_result",
     "data": {
      "text/plain": [
       "0.43515477452316675"
      ]
     },
     "metadata": {},
     "execution_count": 41
    }
   ],
   "metadata": {}
  },
  {
   "cell_type": "code",
   "execution_count": 28,
   "source": [
    "# def Zscore(xcritical, mean, stdev):\n",
    "#     return (xcritical - mean)/stdev\n",
    "\n",
    "# #example:\n",
    "\n",
    "# xcritical = 9\n",
    "# xcritical1= 13\n",
    "# mean = 10.95\n",
    "# stdev = 3\n",
    "\n",
    "# zscore = Zscore(xcritical, mean, stdev)\n",
    "# zscore1 = Zscore(xcritical1, mean, stdev)\n",
    "\n",
    "# prob_1= st.norm.pdf(zscore)\n",
    "# prob_2= st.norm.pdf(zscore1)\n",
    "\n",
    "# total = round((prob_2-prob_1),2)\n",
    "\n",
    "# print(f'{xcritical1} < Z < {xcritical}')\n",
    "# print('')\n",
    "# print(f'PROB: {total}')"
   ],
   "outputs": [
    {
     "output_type": "stream",
     "name": "stdout",
     "text": [
      "13 < Z < 9\n",
      "\n",
      "PROB: -0.01\n"
     ]
    }
   ],
   "metadata": {}
  },
  {
   "cell_type": "code",
   "execution_count": 49,
   "source": [
    "# from statsmodels.stats.proportion import proportions_ztest\n",
    "\n",
    "# count = 281\n",
    "# nobs = 500\n",
    "# value = .511\n",
    "# stat, pval = proportions_ztest(count, nobs, value)\n",
    "# print('{0:0.3f}'.format(pval))\n",
    "# print('{0:0.3f}'.format(stat))\n"
   ],
   "outputs": [
    {
     "output_type": "stream",
     "name": "stdout",
     "text": [
      "0.022\n",
      "2.299\n"
     ]
    }
   ],
   "metadata": {}
  }
 ]
}