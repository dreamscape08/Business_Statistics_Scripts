{
 "cells": [
  {
   "cell_type": "code",
   "execution_count": 14,
   "source": [
    "from scipy.stats import chi2_contingency\n",
    "import numpy as np\n",
    "g, p, dof, expctd = chi2_contingency(obs)"
   ],
   "outputs": [],
   "metadata": {}
  },
  {
   "cell_type": "code",
   "execution_count": 13,
   "source": [
    "obs=np.array([[100,50,40], [150,30,60],[250,80,100]])\n",
    "g, p, dof, expctd = chi2_contingency(obs)\n",
    "print(g,p,dof)\n",
    "print(expctd)"
   ],
   "outputs": [
    {
     "output_type": "stream",
     "name": "stdout",
     "text": [
      "13.366776315789476 0.009615993841544308 4\n",
      "[[110.46511628  35.34883721  44.18604651]\n",
      " [139.53488372  44.65116279  55.81395349]\n",
      " [250.          80.         100.        ]]\n"
     ]
    }
   ],
   "metadata": {}
  },
  {
   "cell_type": "code",
   "execution_count": 10,
   "source": [
    "obs = np.array([[100,150,250], [50,30,80],[40,60,100]])\n",
    "g, p, dof, expctd = chi2_contingency(obs)\n",
    "print(g,p,dof)\n",
    "print(expctd)"
   ],
   "outputs": [
    {
     "output_type": "execute_result",
     "data": {
      "text/plain": [
       "(13.366776315789474,\n",
       " 0.009615993841544313,\n",
       " 4,\n",
       " array([[110.46511628, 139.53488372, 250.        ],\n",
       "        [ 35.34883721,  44.65116279,  80.        ],\n",
       "        [ 44.18604651,  55.81395349, 100.        ]]))"
      ]
     },
     "metadata": {},
     "execution_count": 10
    }
   ],
   "metadata": {}
  },
  {
   "cell_type": "code",
   "execution_count": 11,
   "source": [
    "obs = np.array([[100,150], [50,30],[40,60]])\n",
    "g, p, dof, expctd = chi2_contingency(obs)\n",
    "print(g,p,dof)\n",
    "print(expctd)"
   ],
   "outputs": [
    {
     "output_type": "execute_result",
     "data": {
      "text/plain": [
       "(13.366776315789473,\n",
       " 0.0012515303983001058,\n",
       " 2,\n",
       " array([[110.46511628, 139.53488372],\n",
       "        [ 35.34883721,  44.65116279],\n",
       "        [ 44.18604651,  55.81395349]]))"
      ]
     },
     "metadata": {},
     "execution_count": 11
    }
   ],
   "metadata": {}
  },
  {
   "cell_type": "code",
   "execution_count": 3,
   "source": [
    "obs=np.array([[200,190,390],[200,210,410]])\n",
    "g, p, dof, expctd = chi2_contingency(obs)\n",
    "print(g,p,dof)\n",
    "print(expctd)"
   ],
   "outputs": [
    {
     "output_type": "execute_result",
     "data": {
      "text/plain": [
       "(0.5003126954346466, 0.7786790288649662, 2)"
      ]
     },
     "metadata": {},
     "execution_count": 3
    }
   ],
   "metadata": {}
  },
  {
   "cell_type": "code",
   "execution_count": 4,
   "source": [
    "obs=np.array([[20,25,45],[22,22,44],[18,35,53]])\n",
    "g, p, dof, expctd = chi2_contingency(obs)\n",
    "print(g,p,dof)\n",
    "print(expctd)"
   ],
   "outputs": [
    {
     "output_type": "execute_result",
     "data": {
      "text/plain": [
       "(2.6638765318470803, 0.6155503887287381, 4)"
      ]
     },
     "metadata": {},
     "execution_count": 4
    }
   ],
   "metadata": {}
  },
  {
   "cell_type": "code",
   "execution_count": 5,
   "source": [
    "obs=np.array([[200  ,190,390],[200,210,410],[400,400,800]])\n",
    "g, p, dof, expctd = chi2_contingency(obs)\n",
    "print(g,p,dof)\n",
    "print(expctd)"
   ],
   "outputs": [
    {
     "output_type": "execute_result",
     "data": {
      "text/plain": [
       "(0.5003126954346466, 0.9734705307698983, 4)"
      ]
     },
     "metadata": {},
     "execution_count": 5
    }
   ],
   "metadata": {}
  },
  {
   "cell_type": "code",
   "execution_count": null,
   "source": [
    "obs=np.array([[200,190,390],[200,210,410],[400,400,800]])\n",
    "chi2_contingency(obs)\n",
    "g, p, dof, expctd = chi2_contingency(obs)\n",
    "print(g,p,dof)\n",
    "print(expctd)"
   ],
   "outputs": [],
   "metadata": {}
  },
  {
   "cell_type": "code",
   "execution_count": 5,
   "source": [
    "obs = np.array([[100,50,40,190 ], [150,30,60,240],[250,80,100,430]])\n",
    "g, p, dof, expctd = chi2_contingency(obs)\n",
    "print(g,p,dof)\n",
    "print(expctd)"
   ],
   "outputs": [
    {
     "output_type": "execute_result",
     "data": {
      "text/plain": [
       "(13.366776315789474, 0.037567471803405195, 6)"
      ]
     },
     "metadata": {},
     "execution_count": 5
    }
   ],
   "metadata": {}
  }
 ],
 "metadata": {
  "orig_nbformat": 4,
  "language_info": {
   "name": "python",
   "version": "3.8.8",
   "mimetype": "text/x-python",
   "codemirror_mode": {
    "name": "ipython",
    "version": 3
   },
   "pygments_lexer": "ipython3",
   "nbconvert_exporter": "python",
   "file_extension": ".py"
  },
  "kernelspec": {
   "name": "python3",
   "display_name": "Python 3.8.8 64-bit ('base': conda)"
  },
  "interpreter": {
   "hash": "e134e05457d34029b6460cd73bbf1ed73f339b5b6d98c95be70b69eba114fe95"
  }
 },
 "nbformat": 4,
 "nbformat_minor": 2
}